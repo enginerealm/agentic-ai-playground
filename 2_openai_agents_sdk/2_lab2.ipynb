{
 "cells": [
  {
   "cell_type": "markdown",
   "id": "3d309db6",
   "metadata": {},
   "source": [
    "# Week 2 Day 2\n",
    "## YouTube Channel Manager Agent System\n",
    "### System Overview\n",
    "#### Component Description\n",
    "1. Main Agent (channel_manager)\tTriages requests like planning, scripting, emailing\n",
    "2. Utility Agents topic_agent, planner_agent, script_agent, seo_agent — act as tools\n",
    "3. Email Agent\tSends actual emails via Mailgun\n",
    "4. Session\tRemembers full conversation context\n",
    "5. Tracing\tLogs which agent/tool handled each request (Check Here: https://platform.openai.com/traces)"
   ]
  },
  {
   "cell_type": "code",
   "execution_count": 18,
   "id": "8aacf8cc",
   "metadata": {},
   "outputs": [],
   "source": [
    "import os\n",
    "import asyncio\n",
    "import requests\n",
    "from dotenv import load_dotenv\n",
    "from agents import Agent, Runner, trace, SQLiteSession, function_tool\n",
    "from openai.types.responses import ResponseTextDeltaEvent"
   ]
  },
  {
   "cell_type": "code",
   "execution_count": 19,
   "id": "a79d3070",
   "metadata": {},
   "outputs": [],
   "source": [
    "topic_agent_instructions = \"You are a YouTube Channel Topic Generator Agent. You will need to generate a topic that is relevant to the channel and that is not already in the channel's video titles.\"\n",
    "topic_agent = Agent(name=\"topic_agent\", instructions=topic_agent_instructions)\n",
    "\n",
    "planner_agent_instructions = \"You are a YouTube Channel Planner Agent. You plan YouTube videos for a channel. You will be given a topic and you will need to plan a video for that topic by breaking the topic into short actionable steps.\"\n",
    "planner_agent = Agent(name=\"planner_agent\", instructions=planner_agent_instructions)\n",
    "\n",
    "script_agent_instructions = \"You are a YouTube Channel Script Writer Agent. You will be given a topic. You will need to write an engaging script for a video for that topic and format.\"\n",
    "script_agent = Agent(name=\"script_agent\", instructions=script_agent_instructions)\n",
    "\n",
    "seo_agent_instructions = \"You are a YouTube Channel SEO Agent. You will be give a topic and you will need to write a SEO friendly title, description, tags, thumbnails, and a thumbnail description for that topic.\"\n",
    "seo_agent = Agent(name=\"seo_agent\", instructions=seo_agent_instructions)\n",
    "\n",
    "email_agent_instructions = \"You are a YouTube Channel Email Agent. You will be given a topic and you will need to send an email to the channel collaborators about the video plan, script, publishing events, and SEO.\"\n",
    "email_agent = Agent(name=\"email_agent\", instructions=email_agent_instructions)"
   ]
  },
  {
   "cell_type": "code",
   "execution_count": 20,
   "id": "a6533e63",
   "metadata": {},
   "outputs": [],
   "source": [
    "channel = \"Startup Building\""
   ]
  },
  {
   "cell_type": "code",
   "execution_count": null,
   "id": "1d941c56",
   "metadata": {},
   "outputs": [],
   "source": [
    "result = await Runner.run(topic_agent, channel)\n",
    "print(result.final_output)"
   ]
  },
  {
   "cell_type": "code",
   "execution_count": null,
   "id": "56273bd7",
   "metadata": {},
   "outputs": [],
   "source": [
    "# Refer https://openai.github.io/openai-agents-python/streaming/\n",
    "\n",
    "result = Runner.run_streamed(topic_agent, input=channel)\n",
    "async for event in result.stream_events():\n",
    "    if event.type == \"raw_response_event\" and isinstance(event.data, ResponseTextDeltaEvent):\n",
    "        print(event.data.delta, end=\"\", flush=True)"
   ]
  },
  {
   "cell_type": "code",
   "execution_count": null,
   "id": "403cbba3",
   "metadata": {},
   "outputs": [],
   "source": [
    "result = await Runner.run(planner_agent, channel)\n",
    "print(result.final_output)"
   ]
  },
  {
   "cell_type": "code",
   "execution_count": null,
   "id": "9a2aeef3",
   "metadata": {},
   "outputs": [],
   "source": [
    "result = await Runner.run(script_agent, channel)\n",
    "print(result.final_output)"
   ]
  },
  {
   "cell_type": "code",
   "execution_count": null,
   "id": "537cab57",
   "metadata": {},
   "outputs": [],
   "source": [
    "result = await Runner.run(seo_agent, channel)\n",
    "print(result.final_output)"
   ]
  },
  {
   "cell_type": "code",
   "execution_count": null,
   "id": "20cc5697",
   "metadata": {},
   "outputs": [],
   "source": [
    "\n",
    "\n",
    "with trace(\"Putting together a YouTube Channel\"):\n",
    "    topic_for_video = await Runner.run(topic_agent, input=channel)\n",
    "    topic_name = topic_for_video.final_output\n",
    "    results = await asyncio.gather(\n",
    "        Runner.run(planner_agent, input=topic_name),\n",
    "        Runner.run(script_agent, input=topic_name),\n",
    "        Runner.run(seo_agent, input=topic_name))\n",
    "\n",
    "outputs = [result.final_output for result in results]\n",
    "\n",
    "for output in outputs:\n",
    "    print(f\"Output: {output}\")"
   ]
  },
  {
   "cell_type": "markdown",
   "id": "6f28da91",
   "metadata": {},
   "source": [
    "## Create a function into a Tool\n",
    "\n",
    "Simply wrap function with the decorator @function_tool"
   ]
  },
  {
   "cell_type": "code",
   "execution_count": 21,
   "id": "7cf7e414",
   "metadata": {},
   "outputs": [],
   "source": [
    "# MailGun API to send email notifications\n",
    "from agents import function_tool\n",
    "from typing import Annotated\n",
    "\n",
    "\n",
    "@function_tool\n",
    "def send_mailgun_email_notification(\n",
    "    subject: Annotated[str, \"The email subject line\"],\n",
    "    body: Annotated[str, \"The email body content\"]\n",
    ") -> str:\n",
    "    \"\"\"\n",
    "    Sends an email using Mailgun with the given subject and body.\n",
    "    \n",
    "    Args:\n",
    "        subject: The email subject line\n",
    "        body: The email body content\n",
    "        \n",
    "    Returns:\n",
    "        A string indicating success or failure of the email send operation\n",
    "    \"\"\"\n",
    "    response = requests.post(\n",
    "        f\"https://api.mailgun.net/v3/{os.getenv('MAIL_GUN_DOMAIN')}/messages\",\n",
    "        auth=(\"api\", os.getenv('MAIL_GUN_API_KEY')),\n",
    "        data={\n",
    "            \"from\": os.getenv('MAIL_GUN_YOUTUBE_CHANNEL_FROM_EMAIL'),\n",
    "            \"to\": os.getenv('MAIL_GUN_YOUTUBE_CHANNEL_TO_EMAIL'),\n",
    "            \"subject\": subject,\n",
    "            \"text\": body\n",
    "        }\n",
    "    )\n",
    "\n",
    "    if response.status_code == 200:\n",
    "        return \"Email sent successfully.\"\n",
    "    else:\n",
    "        return f\"Email failed: {response.text}\""
   ]
  },
  {
   "cell_type": "code",
   "execution_count": null,
   "id": "50300c24",
   "metadata": {},
   "outputs": [],
   "source": [
    "\n",
    "\n",
    "print(send_mailgun_email_notification.params_json_schema)"
   ]
  },
  {
   "cell_type": "markdown",
   "id": "c4c76431",
   "metadata": {},
   "source": [
    "# Convert an Agent into a tool\n",
    "\n",
    "Simply use `.as_tool()`"
   ]
  },
  {
   "cell_type": "code",
   "execution_count": null,
   "id": "aa5b876f",
   "metadata": {},
   "outputs": [],
   "source": [
    "topic_agent_as_tool = topic_agent.as_tool(tool_name=\"topic_agent_tool\", tool_description=\"A tool that generates a topic for a YouTube video\")\n",
    "\n",
    "topic_agent_as_tool"
   ]
  },
  {
   "cell_type": "code",
   "execution_count": null,
   "id": "9d0fcc76",
   "metadata": {},
   "outputs": [],
   "source": [
    "planner_agent_as_tool = planner_agent.as_tool(tool_name=\"planner_agent_tool\", tool_description=\"A tool that plans a YouTube video\")\n",
    "script_agent_as_tool = script_agent.as_tool(tool_name=\"script_agent_tool\", tool_description=\"A tool that writes a script for a YouTube video\")\n",
    "seo_agent_as_tool = seo_agent.as_tool(tool_name=\"seo_agent_tool\", tool_description=\"A tool that writes a SEO friendly title, description, tags, thumbnails, and a thumbnail description for a YouTube video\")\n",
    "\n",
    "utility_tools = [topic_agent_as_tool, planner_agent_as_tool, script_agent_as_tool, seo_agent_as_tool]\n",
    "utility_tools"
   ]
  },
  {
   "cell_type": "code",
   "execution_count": null,
   "id": "cedd8ba9",
   "metadata": {},
   "outputs": [],
   "source": [
    "email_notification_agent_instructions = \"\"\"\n",
    "You are a YouTube Channel Email Agent. \n",
    "You are responsible for sending email notifications. \n",
    "Use the send_mailgun_email_notification tool.\"\"\"\n",
    "\n",
    "# email_tools = [send_mailgun_email_notification]\n",
    "email_notification_agent = Agent(name=\"email_notification_agent\", instructions=email_notification_agent_instructions, tools=[send_mailgun_email_notification])\n",
    "\n",
    "handoff_tools = [email_notification_agent]\n",
    "handoff_tools"
   ]
  },
  {
   "cell_type": "markdown",
   "id": "93f618e6",
   "metadata": {},
   "source": [
    "## Main Agent that will handle all the management for your YouTube Channel's topic"
   ]
  },
  {
   "cell_type": "code",
   "execution_count": null,
   "id": "e1655e59",
   "metadata": {},
   "outputs": [],
   "source": [
    "channel_manager_agent_instructions = \"\"\"\n",
    "You are a YouTube Channel Manager Agent.\n",
    "\n",
    "You will be given a video topic for a YouTube channel. Your responsibilities:\n",
    "\n",
    "1. Plan the video by breaking the topic into clear, actionable steps.\n",
    "2. Write an engaging, high-retention script tailored to the format.\n",
    "3. Generate SEO assets: a title, description, tags, and thumbnail with description.\n",
    "\n",
    "Once you've created the video plan and content:\n",
    "\n",
    "4. You must send an email to the channel collaborators summarizing the video plan, script, publishing timeline, and SEO assets.\n",
    "\n",
    "To do this: \n",
    "1. You must call the `email` agent via handoff, passing exactly two arguments: the `subject` and `body` of the email.  \n",
    "2. Do not print or include the email in your final response.  \n",
    "3. Do not ask for permission to send it.  \n",
    "4. Just trigger the handoff with the final subject and body.\n",
    "\n",
    "Use each tool only once. Use all tools effectively. Do not repeat yourself. Be specific and concise.\n",
    "\"\"\"\n",
    "\n",
    "\n",
    "channel_manager_agent = Agent(name=\"channel_manager_agent\", instructions=channel_manager_agent_instructions, tools=utility_tools, handoffs={\"email\": email_notification_agent})\n",
    "\n",
    "channel_manager_agent\n"
   ]
  },
  {
   "cell_type": "code",
   "execution_count": 28,
   "id": "4fae6e30",
   "metadata": {},
   "outputs": [],
   "source": [
    "channel_session = SQLiteSession(\"channel_session\")"
   ]
  },
  {
   "cell_type": "code",
   "execution_count": null,
   "id": "2f8ceeef",
   "metadata": {},
   "outputs": [],
   "source": [
    "with trace(\"Agentic AI System for YouTube Channel Management\"):\n",
    "    result = await Runner.run(channel_manager_agent, channel, session=channel_session)\n",
    "\n",
    "print(f\"Channel Manager Agent Output: {result.final_output}\")"
   ]
  }
 ],
 "metadata": {
  "kernelspec": {
   "display_name": ".venv",
   "language": "python",
   "name": "python3"
  },
  "language_info": {
   "codemirror_mode": {
    "name": "ipython",
    "version": 3
   },
   "file_extension": ".py",
   "mimetype": "text/x-python",
   "name": "python",
   "nbconvert_exporter": "python",
   "pygments_lexer": "ipython3",
   "version": "3.12.5"
  }
 },
 "nbformat": 4,
 "nbformat_minor": 5
}
