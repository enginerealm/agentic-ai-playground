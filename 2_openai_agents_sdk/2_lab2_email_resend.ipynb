{
 "cells": [
  {
   "cell_type": "code",
   "execution_count": null,
   "id": "56203078",
   "metadata": {},
   "outputs": [],
   "source": [
    "import os\n",
    "import asyncio\n",
    "import requests\n",
    "from dotenv import load_dotenv\n",
    "from agents import Agent, Runner, trace, SQLiteSession, function_tool"
   ]
  },
  {
   "cell_type": "code",
   "execution_count": null,
   "id": "3827a21c",
   "metadata": {},
   "outputs": [],
   "source": [
    "load_dotenv(override=True)"
   ]
  },
  {
   "cell_type": "code",
   "execution_count": 6,
   "id": "3f5d3ce2",
   "metadata": {},
   "outputs": [],
   "source": [
    "topic_agent_instructions = \"You are a YouTube Channel Topic Generator Agent. You will need to generate a topic that is relevant to the channel and that is not already in the channel's video titles.\"\n",
    "topic_agent = Agent(name=\"topic_agent\", instructions=topic_agent_instructions)\n",
    "\n",
    "planner_agent_instructions = \"You are a YouTube Channel Planner Agent. You plan YouTube videos for a channel. You will be given a topic and you will need to plan a video for that topic by breaking the topic into short actionable steps.\"\n",
    "planner_agent = Agent(name=\"planner_agent\", instructions=planner_agent_instructions)\n",
    "\n",
    "script_agent_instructions = \"You are a YouTube Channel Script Writer Agent. You will be given a topic. You will need to write an engaging script for a video for that topic and format.\"\n",
    "script_agent = Agent(name=\"script_agent\", instructions=script_agent_instructions)\n",
    "\n",
    "seo_agent_instructions = \"You are a YouTube Channel SEO Agent. You will be give a topic and you will need to write a SEO friendly title, description, tags, thumbnails, and a thumbnail description for that topic.\"\n",
    "seo_agent = Agent(name=\"seo_agent\", instructions=seo_agent_instructions)"
   ]
  },
  {
   "cell_type": "code",
   "execution_count": 7,
   "id": "26ab1142",
   "metadata": {},
   "outputs": [],
   "source": [
    "channel = \"Startup Building\""
   ]
  },
  {
   "cell_type": "code",
   "execution_count": 10,
   "id": "29468700",
   "metadata": {},
   "outputs": [],
   "source": [
    "@function_tool\n",
    "def send_mailgun_email_notification(subject: str, body: str) -> str:\n",
    "    \"\"\"\n",
    "    Sends an email using Mailgun with the given subject and body.\n",
    "    \n",
    "    Args:\n",
    "        subject: The email subject line\n",
    "        body: The email body content\n",
    "        \n",
    "    Returns:\n",
    "        A string indicating success or failure of the email send operation\n",
    "    \"\"\"\n",
    "    response = requests.post(\n",
    "        f\"https://api.mailgun.net/v3/{os.getenv('MAIL_GUN_DOMAIN')}/messages\",\n",
    "        auth=(\"api\", os.getenv('MAIL_GUN_API_KEY')),\n",
    "        data={\n",
    "            \"from\": os.getenv('MAIL_GUN_YOUTUBE_CHANNEL_FROM_EMAIL'),\n",
    "            \"to\": os.getenv('MAIL_GUN_YOUTUBE_CHANNEL_TO_EMAIL'),\n",
    "            \"subject\": subject,\n",
    "            \"text\": body\n",
    "        }\n",
    "    )\n",
    "\n",
    "    if response.status_code == 200:\n",
    "        return \"Email sent successfully.\"\n",
    "    else:\n",
    "        return f\"Email failed: {response.text}\""
   ]
  },
  {
   "cell_type": "code",
   "execution_count": 11,
   "id": "d80d89ba",
   "metadata": {},
   "outputs": [],
   "source": [
    "topic_agent_as_tool = topic_agent.as_tool(tool_name=\"topic_agent_tool\", tool_description=\"A tool that generates a topic for a YouTube video\")\n",
    "planner_agent_as_tool = planner_agent.as_tool(tool_name=\"planner_agent_tool\", tool_description=\"A tool that plans a YouTube video\")\n",
    "script_agent_as_tool = script_agent.as_tool(tool_name=\"script_agent_tool\", tool_description=\"A tool that writes a script for a YouTube video\")\n",
    "seo_agent_as_tool = seo_agent.as_tool(tool_name=\"seo_agent_tool\", tool_description=\"A tool that writes a SEO friendly title, description, tags, thumbnails, and a thumbnail description for a YouTube video\")\n",
    "\n",
    "utility_tools = [topic_agent_as_tool, planner_agent_as_tool, script_agent_as_tool, seo_agent_as_tool]"
   ]
  },
  {
   "cell_type": "code",
   "execution_count": 14,
   "id": "9c030f05",
   "metadata": {},
   "outputs": [],
   "source": [
    "email_notification_agent_instructions = \"\"\"\n",
    "You are a YouTube Channel Email Agent. \n",
    "You are responsible for sending email notifications. \n",
    "Use the send_mailgun_email_notification tool.\"\"\"\n",
    "\n",
    "# email_tools = [send_mailgun_email_notification]\n",
    "email_notification_agent = Agent(name=\"email_notification_agent\", instructions=email_notification_agent_instructions, tools=[send_mailgun_email_notification], handoff_description=\"Send an email to the channel collaborators about the video plan, script, publishing events, and SEO.\")"
   ]
  },
  {
   "cell_type": "code",
   "execution_count": 21,
   "id": "5a02c510",
   "metadata": {},
   "outputs": [],
   "source": [
    "channel_manager_agent_instructions = \"\"\"\n",
    "You are a YouTube Channel Manager Agent.\n",
    "\n",
    "You will be given a video topic for a YouTube channel. Your responsibilities:\n",
    "\n",
    "1. Generate a topic for a YouTube video.\n",
    "2. Plan the video by breaking the topic into clear, actionable steps.\n",
    "3. Write an engaging, high-retention script tailored to the format.\n",
    "4. Generate SEO assets: a title, description, tags, and thumbnail with description.\n",
    "5. You must send an email to the channel collaborators summarizing the video plan, script, publishing timeline, and SEO assets.\n",
    "\n",
    "To send an email: \n",
    "1. When you're ready to send the email, DO NOT describe it or say you're about to send it. \n",
    "    Instead, immediately call the email_notification_agent agent via handoffs with parameters:\n",
    "    - `subject`: string\n",
    "    - `body`: string\n",
    "\n",
    "    You must end your run with this handoff — no final summary needed.\n",
    "2. Do not print or include the email in your final response.  \n",
    "3. Do not ask for permission to send it.  \n",
    "4. Just trigger the handoff with the final subject and body.\n",
    "\n",
    "You must only call each tool only ONCE. Do not repeat tool usage. Once you get the result from a tool, use that result to proceed. Do not call the same tool again.\n",
    "\"\"\"\n",
    "\n",
    "\n",
    "channel_manager_agent = Agent(name=\"channel_manager_agent\", instructions=channel_manager_agent_instructions, tools=utility_tools, handoffs=[email_notification_agent])"
   ]
  },
  {
   "cell_type": "code",
   "execution_count": 18,
   "id": "bd9ee291",
   "metadata": {},
   "outputs": [],
   "source": [
    "channel_session = SQLiteSession(\"channel_session\")"
   ]
  },
  {
   "cell_type": "code",
   "execution_count": null,
   "id": "5d68aec4",
   "metadata": {},
   "outputs": [],
   "source": [
    "with trace(\"Automated YouTube Channel Management\"):\n",
    "    result = await Runner.run(channel_manager_agent, channel, session=channel_session)\n",
    "\n",
    "print(f\"Channel Manager Agent Output: {result.final_output}\")"
   ]
  },
  {
   "cell_type": "markdown",
   "id": "c7261bb9",
   "metadata": {},
   "source": [
    "# FINALLY received an email!!!\n",
    "\n",
    "# Each tool was called only once!!!"
   ]
  }
 ],
 "metadata": {
  "kernelspec": {
   "display_name": ".venv",
   "language": "python",
   "name": "python3"
  },
  "language_info": {
   "codemirror_mode": {
    "name": "ipython",
    "version": 3
   },
   "file_extension": ".py",
   "mimetype": "text/x-python",
   "name": "python",
   "nbconvert_exporter": "python",
   "pygments_lexer": "ipython3",
   "version": "3.12.5"
  }
 },
 "nbformat": 4,
 "nbformat_minor": 5
}
