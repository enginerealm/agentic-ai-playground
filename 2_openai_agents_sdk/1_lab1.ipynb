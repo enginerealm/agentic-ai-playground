{
 "cells": [
  {
   "cell_type": "code",
   "execution_count": 44,
   "id": "5b6d9d56",
   "metadata": {},
   "outputs": [],
   "source": [
    "from dotenv import load_dotenv\n",
    "from agents import Agent, Runner, trace, SQLiteSession"
   ]
  },
  {
   "cell_type": "code",
   "execution_count": null,
   "id": "a7be7fcc",
   "metadata": {},
   "outputs": [],
   "source": [
    "load_dotenv(override=True)"
   ]
  },
  {
   "cell_type": "code",
   "execution_count": null,
   "id": "8b56a93c",
   "metadata": {},
   "outputs": [],
   "source": [
    "\n",
    "math_tutor_agent = Agent(name=\"Math_Tutor\", instructions=\"You are a Math Tutor\", model=\"gpt-4o-mini\")\n",
    "\n",
    "runner = await Runner.run(math_tutor_agent, \"What is 2 + 2? Only give direct result\")\n",
    "\n",
    "print(runner)\n",
    "print(runner.final_output)"
   ]
  },
  {
   "cell_type": "code",
   "execution_count": null,
   "id": "d791c079",
   "metadata": {},
   "outputs": [],
   "source": [
    "with trace(\"Math_Tutor\"):\n",
    "    runner = await Runner.run(math_tutor_agent, \"What is 2 + 2? Only give direct result\")    \n",
    "    print(runner)\n",
    "    print(runner.final_output)"
   ]
  },
  {
   "cell_type": "code",
   "execution_count": null,
   "id": "cb829c70",
   "metadata": {},
   "outputs": [],
   "source": [
    "# Using Session\n",
    "\n",
    "math_session = SQLiteSession(\"Math_Session\")\n",
    "\n",
    "runner_result1 = await Runner.run(math_tutor_agent, \"2+2\", session=math_session)\n",
    "print(runner_result1.final_output)\n",
    "\n",
    "runner_result2 = await Runner.run(math_tutor_agent, \"9-3\", session=math_session)\n",
    "print(runner_result2.final_output)\n",
    "\n",
    "runner_result3 = await Runner.run(math_tutor_agent, \"10*10\", session=math_session)\n",
    "print(runner_result3.final_output)\n",
    "\n",
    "for item in await math_session.get_items():\n",
    "    print(f\"{item['role'].upper()}: {item['content']}\")\n"
   ]
  }
 ],
 "metadata": {
  "kernelspec": {
   "display_name": ".venv",
   "language": "python",
   "name": "python3"
  },
  "language_info": {
   "codemirror_mode": {
    "name": "ipython",
    "version": 3
   },
   "file_extension": ".py",
   "mimetype": "text/x-python",
   "name": "python",
   "nbconvert_exporter": "python",
   "pygments_lexer": "ipython3",
   "version": "3.12.5"
  }
 },
 "nbformat": 4,
 "nbformat_minor": 5
}
