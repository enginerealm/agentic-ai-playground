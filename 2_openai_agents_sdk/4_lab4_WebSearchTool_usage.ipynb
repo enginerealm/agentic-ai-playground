{
 "cells": [
  {
   "cell_type": "markdown",
   "id": "1db62a0d",
   "metadata": {},
   "source": [
    "# Week 4: Use of WebSearchTool"
   ]
  },
  {
   "cell_type": "code",
   "execution_count": 1,
   "id": "f0e6e302",
   "metadata": {},
   "outputs": [],
   "source": [
    "import os\n",
    "from dotenv import load_dotenv\n",
    "from openai import AsyncOpenAI\n",
    "from agents import Agent, Runner, trace, OpenAIChatCompletionsModel, WebSearchTool, ModelSettings"
   ]
  },
  {
   "cell_type": "code",
   "execution_count": null,
   "id": "aa9edd42",
   "metadata": {},
   "outputs": [],
   "source": [
    "load_dotenv(override=True)"
   ]
  },
  {
   "cell_type": "markdown",
   "id": "5e1478ab",
   "metadata": {},
   "source": [
    "# **NOTE**\n",
    "- Please make sure to update the number of queries in the instructions below as 1 web-search requries 1 cent"
   ]
  },
  {
   "cell_type": "code",
   "execution_count": 6,
   "id": "f47f7442",
   "metadata": {},
   "outputs": [],
   "source": [
    "openai_client = AsyncOpenAI()\n",
    "openai_model = OpenAIChatCompletionsModel(model=\"gpt-4o-mini\", openai_client=openai_client)\n",
    "model_settings = ModelSettings(model=openai_model, tool_choice=\"required\")\n",
    "\n",
    "instructions = \"\"\"\n",
    "You are a web search agent that can search the web for information.\n",
    "\n",
    "Your task is to:\n",
    "- Search the web using at most 2 queries\n",
    "- Gather the most relevant and recent information about the user prompt\n",
    "- Return a summary in a single paragraph using a maximum of 5 concise bullet points\n",
    "\n",
    "Guidelines:\n",
    "- Keep the response short and factual\n",
    "- Do not include unnecessary detail or lengthy explanations\n",
    "- Use simple, clear language\n",
    "- Always rely on the web search tool — do not guess or fabricate information\n",
    "\"\"\"\n",
    "\n",
    "web_search_agent = Agent(name=\"web_search_agent\", instructions=instructions, model_settings=model_settings, tools=[WebSearchTool(search_context_size=\"low\")])"
   ]
  },
  {
   "cell_type": "code",
   "execution_count": null,
   "id": "ecf3c2c1",
   "metadata": {},
   "outputs": [],
   "source": [
    "user_prompt = \"Help me research about the latest trends in AI\"\n",
    "\n",
    "with trace(\"My First Web Search Tool usage using WebSearchTool\"):\n",
    "    response = await Runner.run(web_search_agent, user_prompt)\n",
    "print(response.final_output)"
   ]
  },
  {
   "cell_type": "code",
   "execution_count": null,
   "id": "b2c87199",
   "metadata": {},
   "outputs": [],
   "source": [
    "from IPython.display import Markdown, display\n",
    "\n",
    "display(Markdown(response.final_output))"
   ]
  }
 ],
 "metadata": {
  "kernelspec": {
   "display_name": ".venv",
   "language": "python",
   "name": "python3"
  },
  "language_info": {
   "codemirror_mode": {
    "name": "ipython",
    "version": 3
   },
   "file_extension": ".py",
   "mimetype": "text/x-python",
   "name": "python",
   "nbconvert_exporter": "python",
   "pygments_lexer": "ipython3",
   "version": "3.12.5"
  }
 },
 "nbformat": 4,
 "nbformat_minor": 5
}
