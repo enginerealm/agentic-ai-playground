{
 "cells": [
  {
   "cell_type": "markdown",
   "id": "8aa7b1be",
   "metadata": {},
   "source": [
    "# How to use Different models with OpenAI Agents SDK that return Structured Output\n"
   ]
  },
  {
   "cell_type": "code",
   "execution_count": 1,
   "id": "dcac94ea",
   "metadata": {},
   "outputs": [],
   "source": [
    "import os\n",
    "from dotenv import load_dotenv\n",
    "from openai import AsyncOpenAI\n",
    "from agents import Agent, Runner, trace, OpenAIChatCompletionsModel\n",
    "from pydantic import BaseModel"
   ]
  },
  {
   "cell_type": "code",
   "execution_count": 2,
   "id": "245e00f8",
   "metadata": {},
   "outputs": [
    {
     "data": {
      "text/plain": [
       "True"
      ]
     },
     "execution_count": 2,
     "metadata": {},
     "output_type": "execute_result"
    }
   ],
   "source": [
    "load_dotenv(override=True)"
   ]
  },
  {
   "cell_type": "code",
   "execution_count": 3,
   "id": "5b0d50a4",
   "metadata": {},
   "outputs": [
    {
     "name": "stdout",
     "output_type": "stream",
     "text": [
      "OpenAI API key is set\n",
      "Gemini API key is set\n",
      "Groq API key is set\n"
     ]
    }
   ],
   "source": [
    "openai_api_key = os.getenv('OPENAI_API_KEY')\n",
    "gemini_api_key = os.getenv('GEMINI_API_KEY')\n",
    "groq_api_key = os.getenv('GROQ_API_KEY')\n",
    "\n",
    "if openai_api_key:\n",
    "    print(\"OpenAI API key is set\")\n",
    "else:\n",
    "    print(\"OpenAI API key is not set\")\n",
    "\n",
    "if gemini_api_key:\n",
    "    print(\"Gemini API key is set\")\n",
    "else:\n",
    "    print(\"Gemini API key is not set\")\n",
    "    \n",
    "if groq_api_key:\n",
    "    print(\"Groq API key is set\")\n",
    "else:\n",
    "    print(\"Groq API key is not set\")"
   ]
  },
  {
   "cell_type": "code",
   "execution_count": 4,
   "id": "6ee54706",
   "metadata": {},
   "outputs": [
    {
     "name": "stdout",
     "output_type": "stream",
     "text": [
      "Gemini API base URL is set\n",
      "Groq API base URL is set\n"
     ]
    }
   ],
   "source": [
    "gemini_base_url = os.getenv('GEMINI_BASE_URL')\n",
    "groq_base_url = os.getenv('GROQ_BASE_URL')\n",
    "\n",
    "if gemini_base_url:\n",
    "    print(\"Gemini API base URL is set\")\n",
    "else:\n",
    "    print(\"Gemini API base URL is not set\")\n",
    "\n",
    "if groq_base_url:\n",
    "    print(\"Groq API base URL is set\")\n",
    "else:\n",
    "    print(\"Groq API base URL is not set\")"
   ]
  },
  {
   "cell_type": "markdown",
   "id": "ac1c363b",
   "metadata": {},
   "source": [
    "# Configure any models with OpenAI Agents SDK"
   ]
  },
  {
   "cell_type": "code",
   "execution_count": 5,
   "id": "36c6dc55",
   "metadata": {},
   "outputs": [
    {
     "name": "stdout",
     "output_type": "stream",
     "text": [
      "<openai.AsyncOpenAI object at 0x1126d0c20>\n",
      "<openai.AsyncOpenAI object at 0x1126d25a0>\n",
      "<openai.AsyncOpenAI object at 0x1152c99d0>\n"
     ]
    }
   ],
   "source": [
    "openai_client = AsyncOpenAI() # default base url is https://api.openai.com/v1 with OpenAI Agents SDK\n",
    "gemini_client = AsyncOpenAI(api_key=gemini_api_key, base_url=gemini_base_url)\n",
    "groq_client = AsyncOpenAI(api_key=groq_api_key, base_url=groq_base_url)\n",
    "\n",
    "print(openai_client)\n",
    "print(gemini_client)\n",
    "print(groq_client)"
   ]
  },
  {
   "cell_type": "code",
   "execution_count": 6,
   "id": "a05f0609",
   "metadata": {},
   "outputs": [
    {
     "name": "stdout",
     "output_type": "stream",
     "text": [
      "gemini-2.0-flash\n"
     ]
    }
   ],
   "source": [
    "# openai_model_name = \"gpt-4o-mini\"\n",
    "gemini_model_name = \"gemini-2.0-flash\"\n",
    "# groq_model_name = \"llama-3.3-70b-versatile\"\n",
    "\n",
    "# print(openai_model_name)\n",
    "print(gemini_model_name)\n",
    "# print(groq_model_name)"
   ]
  },
  {
   "cell_type": "code",
   "execution_count": 7,
   "id": "cecaa958",
   "metadata": {},
   "outputs": [
    {
     "name": "stdout",
     "output_type": "stream",
     "text": [
      "<agents.models.openai_chatcompletions.OpenAIChatCompletionsModel object at 0x1152cb800>\n"
     ]
    }
   ],
   "source": [
    "# openai_model = OpenAIChatCompletionsModel(openai_client=openai_client, model=openai_model_name)\n",
    "gemini_model = OpenAIChatCompletionsModel(openai_client=gemini_client, model=gemini_model_name)\n",
    "# groq_model = OpenAIChatCompletionsModel(openai_client=groq_client, model=groq_model_name)\n",
    "\n",
    "\n",
    "# print(openai_model)\n",
    "print(gemini_model)\n",
    "# print(groq_model)"
   ]
  },
  {
   "cell_type": "markdown",
   "id": "c1f9ddcc",
   "metadata": {},
   "source": [
    "# Structured Output\n",
    "1. Create a Pydantic Model\n",
    "2. pass it as `output_type` in Agent Object"
   ]
  },
  {
   "cell_type": "code",
   "execution_count": 8,
   "id": "539c4604",
   "metadata": {},
   "outputs": [],
   "source": [
    "class ResponseStructure(BaseModel):\n",
    "    who_am_i_testing: str"
   ]
  },
  {
   "cell_type": "code",
   "execution_count": 9,
   "id": "765dfa6c",
   "metadata": {},
   "outputs": [
    {
     "name": "stdout",
     "output_type": "stream",
     "text": [
      "Agent(name='test_gemini_model_agent', handoff_description=None, tools=[], mcp_servers=[], mcp_config={}, instructions='You are a test agent that uses the Gemini model to generate a response.', prompt=None, handoffs=[], model=<agents.models.openai_chatcompletions.OpenAIChatCompletionsModel object at 0x1152cb800>, model_settings=ModelSettings(temperature=None, top_p=None, frequency_penalty=None, presence_penalty=None, tool_choice=None, parallel_tool_calls=None, truncation=None, max_tokens=None, reasoning=None, metadata=None, store=None, include_usage=None, response_include=None, extra_query=None, extra_body=None, extra_headers=None, extra_args=None), input_guardrails=[], output_guardrails=[], output_type=<class '__main__.ResponseStructure'>, hooks=None, tool_use_behavior='run_llm_again', reset_tool_choice=True)\n"
     ]
    }
   ],
   "source": [
    "# test_openai_model_agent = Agent(name=\"test_openai_model_agent\", instructions=\"You are a test agent that uses the OpenAI model to generate a response.\", model=openai_model, output_type=ResponseStructure)\n",
    "test_gemini_model_agent = Agent(name=\"test_gemini_model_agent\", instructions=\"You are a test agent that uses the Gemini model to generate a response.\", model=gemini_model, output_type=ResponseStructure)\n",
    "# Seems like Groq doesn't support output_type yet, we need to parse it manually using the prompt\n",
    "# test_groq_model_agent = Agent(name=\"test_groq_model_agent\", instructions=\"You are a test agent that uses the Llama-3.3 model provided through Groq to generate a response.\", model=groq_model) \n",
    "\n",
    "# print(test_openai_model_agent)\n",
    "print(test_gemini_model_agent)\n",
    "# print(test_groq_model_agent)"
   ]
  },
  {
   "cell_type": "code",
   "execution_count": 10,
   "id": "5fb0333a",
   "metadata": {},
   "outputs": [
    {
     "name": "stdout",
     "output_type": "stream",
     "text": [
      "who_am_i_testing='Gemini'\n"
     ]
    }
   ],
   "source": [
    "user_prompt = \"I am testing you.\"\n",
    "\n",
    "# groq_user_prompt_as_it_does_not_support_output_type = f\"\"\"\n",
    "# You are a test agent that uses the model provided by Groq to generate a response.\n",
    "# The user prompt is: {user_prompt}\n",
    "\n",
    "# Please response in the following JSON format:\n",
    "# {{\n",
    "#     \"who_am_i_testing\": string\n",
    "# }}\n",
    "# \"\"\"\n",
    "\n",
    "with trace(\"Multi Model Integration with Structured Output\") as t:\n",
    "    # openai_agent_result = await Runner.run(test_openai_model_agent, user_prompt)\n",
    "\n",
    "    gemini_agent_result = await Runner.run(test_gemini_model_agent, user_prompt)\n",
    "\n",
    "    # groq_agent_result = await Runner.run(test_groq_model_agent, groq_user_prompt_as_it_does_not_support_output_type)\n",
    "\n",
    "# print(openai_agent_result.final_output)\n",
    "print(gemini_agent_result.final_output)\n",
    "# print(groq_agent_result.final_output)"
   ]
  }
 ],
 "metadata": {
  "kernelspec": {
   "display_name": ".venv",
   "language": "python",
   "name": "python3"
  },
  "language_info": {
   "codemirror_mode": {
    "name": "ipython",
    "version": 3
   },
   "file_extension": ".py",
   "mimetype": "text/x-python",
   "name": "python",
   "nbconvert_exporter": "python",
   "pygments_lexer": "ipython3",
   "version": "3.12.5"
  }
 },
 "nbformat": 4,
 "nbformat_minor": 5
}
