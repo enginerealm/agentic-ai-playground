{
 "cells": [
  {
   "cell_type": "markdown",
   "id": "16c147a9",
   "metadata": {},
   "source": [
    "Credits: Ed Donner\n",
    "\n",
    "LinkedIn: https://www.linkedin.com/in/eddonner/\n",
    "\n",
    "Udemy Course: The Complete Agentic AI Engineering Course (2025)\n"
   ]
  },
  {
   "cell_type": "markdown",
   "id": "b3f598ad",
   "metadata": {},
   "source": [
    "This is a Lab1 from Ed's course. I am doing it myself to get hands-on practice."
   ]
  },
  {
   "cell_type": "code",
   "execution_count": 1,
   "id": "d2e0855c",
   "metadata": {},
   "outputs": [],
   "source": [
    "from dotenv import load_dotenv"
   ]
  },
  {
   "cell_type": "code",
   "execution_count": null,
   "id": "2fc22d26",
   "metadata": {},
   "outputs": [],
   "source": [
    "load_dotenv(override=True)"
   ]
  },
  {
   "cell_type": "code",
   "execution_count": null,
   "id": "6977bf9e",
   "metadata": {},
   "outputs": [],
   "source": [
    "import os\n",
    "\n",
    "openai_api_key = os.getenv(\"OPENAI_API_KEY\")\n",
    "\n",
    "if openai_api_key:\n",
    "    print(f\"OPENAI_API_KEY is set {openai_api_key[:8]}\")\n",
    "else:\n",
    "    print(\"OPENAI_API_KEY is not set\")"
   ]
  },
  {
   "cell_type": "code",
   "execution_count": 10,
   "id": "b3ae2fbd",
   "metadata": {},
   "outputs": [],
   "source": [
    "from openai import OpenAI"
   ]
  },
  {
   "cell_type": "code",
   "execution_count": 11,
   "id": "a3bf064a",
   "metadata": {},
   "outputs": [],
   "source": [
    "openai_client = OpenAI()"
   ]
  },
  {
   "cell_type": "code",
   "execution_count": 14,
   "id": "763976ef",
   "metadata": {},
   "outputs": [],
   "source": [
    "messages = [{\"role\": \"user\", \"content\": \"What is 2+2\"}]"
   ]
  },
  {
   "cell_type": "code",
   "execution_count": null,
   "id": "4d0e478a",
   "metadata": {},
   "outputs": [],
   "source": [
    "model = \"gpt-4o-mini\"\n",
    "response = openai_client.chat.completions.create(model=model, messages=messages)\n",
    "\n",
    "print(response.choices[0].message.content)"
   ]
  },
  {
   "cell_type": "code",
   "execution_count": 28,
   "id": "d7fc2ac6",
   "metadata": {},
   "outputs": [],
   "source": [
    "userInput = \"Can you please propose a hard question related to geography with bigger answer? Respond only with the question.\"\n",
    "messages = [{\"role\": \"user\", \"content\": userInput}]"
   ]
  },
  {
   "cell_type": "code",
   "execution_count": null,
   "id": "ec2095a8",
   "metadata": {},
   "outputs": [],
   "source": [
    "response = openai_client.chat.completions.create(model=model, messages=messages)\n",
    "\n",
    "questionFromAI = response.choices[0].message.content\n",
    "\n",
    "print(questionFromAI)"
   ]
  },
  {
   "cell_type": "code",
   "execution_count": null,
   "id": "211ab7e9",
   "metadata": {},
   "outputs": [],
   "source": [
    "messages = [{\"role\": \"user\", \"content\": questionFromAI}]\n",
    "response = openai_client.chat.completions.create(model=model, messages=messages)\n",
    "\n",
    "answerFromAI = response.choices[0].message.content\n",
    "\n",
    "print(answerFromAI)\n",
    "\n"
   ]
  },
  {
   "cell_type": "code",
   "execution_count": null,
   "id": "0b71de61",
   "metadata": {},
   "outputs": [],
   "source": [
    "from IPython.display import Markdown, display\n",
    "\n",
    "display(Markdown(\"## Question from AI:\"))\n",
    "display(Markdown(questionFromAI))\n",
    "\n",
    "display(Markdown(\"## Answer from AI:\"))\n",
    "display(Markdown(answerFromAI))"
   ]
  }
 ],
 "metadata": {
  "kernelspec": {
   "display_name": ".venv",
   "language": "python",
   "name": "python3"
  },
  "language_info": {
   "codemirror_mode": {
    "name": "ipython",
    "version": 3
   },
   "file_extension": ".py",
   "mimetype": "text/x-python",
   "name": "python",
   "nbconvert_exporter": "python",
   "pygments_lexer": "ipython3",
   "version": "3.12.5"
  }
 },
 "nbformat": 4,
 "nbformat_minor": 5
}
