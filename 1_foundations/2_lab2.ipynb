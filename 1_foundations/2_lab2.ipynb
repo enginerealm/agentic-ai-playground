{
 "cells": [
  {
   "cell_type": "markdown",
   "id": "79d781c5",
   "metadata": {},
   "source": [
    "Using and comparing different models"
   ]
  },
  {
   "cell_type": "code",
   "execution_count": 1,
   "id": "cb648d53",
   "metadata": {},
   "outputs": [],
   "source": [
    "import os\n",
    "import json\n",
    "from dotenv import load_dotenv\n",
    "from openai import OpenAI\n",
    "from IPython.display import Markdown, display"
   ]
  },
  {
   "cell_type": "code",
   "execution_count": null,
   "id": "345f3d28",
   "metadata": {},
   "outputs": [],
   "source": [
    "load_dotenv(override=True)"
   ]
  },
  {
   "cell_type": "code",
   "execution_count": null,
   "id": "a1f5cd4d",
   "metadata": {},
   "outputs": [],
   "source": [
    "openai_api_key = os.getenv(\"OPENAI_API_KEY\")\n",
    "google_api_key = os.getenv(\"GOOGLE_API_KEY\")\n",
    "gemini_api_key = os.getenv(\"GEMINI_API_KEY\")\n",
    "ollama_api_key = os.getenv(\"OLLAMA_API_KEY\")\n",
    "\n",
    "if openai_api_key:\n",
    "    print(f\"OPENAI_API_KEY is set {openai_api_key[:8]}\")\n",
    "else:\n",
    "    print(\"OPENAI_API_KEY is not set\")\n",
    "\n",
    "if google_api_key:\n",
    "    print(f\"GOOGLE_API_KEY is set {google_api_key[:8]}\")\n",
    "else:\n",
    "    print(\"GOOGLE_API_KEY is not set\")\n",
    "\n",
    "if gemini_api_key:\n",
    "    print(f\"GEMINI_API_KEY is set {gemini_api_key[:8]}\")\n",
    "else:\n",
    "    print(\"GEMINI_API_KEY is not set\")\n",
    "\n",
    "if ollama_api_key:\n",
    "    print(f\"OLLAMA_API_KEY is set {ollama_api_key[:8]}\")\n",
    "else:\n",
    "    print(\"OLLAMA_API_KEY is not set\")"
   ]
  },
  {
   "cell_type": "code",
   "execution_count": 4,
   "id": "1a5029a4",
   "metadata": {},
   "outputs": [],
   "source": [
    "request = \"I want to evaluate the performance of multiple LLMs. I need you to give me a challenging question which can be used to evaluate the performance of multiple LLMs. Provide only Question, no answer.\"\n",
    "messages = [{\"role\": \"user\", \"content\": request}]\n",
    "openai_model_name = \"gpt-4o-mini\"\n",
    "google_model_name = \"gemini-2.0-flash\"\n",
    "gemini_model_name = \"gemini-2.0-flash\"\n",
    "ollama_model_name = \"llama3.2\""
   ]
  },
  {
   "cell_type": "code",
   "execution_count": null,
   "id": "c66afcbe",
   "metadata": {},
   "outputs": [],
   "source": [
    "messages "
   ]
  },
  {
   "cell_type": "code",
   "execution_count": null,
   "id": "c52acff3",
   "metadata": {},
   "outputs": [],
   "source": [
    "openai_client = OpenAI()\n",
    "response = openai_client.chat.completions.create(model=openai_model_name, messages=messages)\n",
    "\n",
    "question = response.choices[0].message.content\n",
    "\n",
    "display(Markdown(question))"
   ]
  },
  {
   "cell_type": "code",
   "execution_count": 7,
   "id": "2e620088",
   "metadata": {},
   "outputs": [],
   "source": [
    "competitors = []\n",
    "answers = []\n",
    "messages = [{\"role\": \"user\", \"content\": question}]"
   ]
  },
  {
   "cell_type": "code",
   "execution_count": null,
   "id": "e5d51893",
   "metadata": {},
   "outputs": [],
   "source": [
    "response = openai_client.chat.completions.create(model=openai_model_name, messages=messages)\n",
    "openai_model_answer = response.choices[0].message.content\n",
    "\n",
    "display(Markdown(openai_model_answer))\n",
    "competitors.append(openai_model_name)\n",
    "answers.append(openai_model_answer)"
   ]
  },
  {
   "cell_type": "code",
   "execution_count": null,
   "id": "b1c199b6",
   "metadata": {},
   "outputs": [],
   "source": [
    "gemini_openai_client = OpenAI(api_key=gemini_api_key, base_url=\"https://generativelanguage.googleapis.com/v1beta/openai/\")\n",
    "\n",
    "response = gemini_openai_client.chat.completions.create(model=gemini_model_name, messages=messages)\n",
    "gemini_model_answer = response.choices[0].message.content\n",
    "\n",
    "display(Markdown(gemini_model_answer))\n",
    "competitors.append(gemini_model_name)\n",
    "answers.append(gemini_model_answer)"
   ]
  },
  {
   "cell_type": "markdown",
   "id": "edbeeb81",
   "metadata": {},
   "source": [
    "#### No need to install a model using `!ollama pull llama3.2` because I am running this in a docker container\n",
    "\n",
    "Step 1: Pull the Image\n",
    "\n",
    "> docker pull alpine/ollama\n",
    "\n",
    "Step 2: Run the Container\n",
    "\n",
    "Make sure to expose the port so that we can use it with the localhost\n",
    "\n",
    "> docker run -d \\\n",
    ">   --name ollama \\\n",
    ">   -p 11434:11434 \\\n",
    ">   -v ollama_data:/root/.ollama \\\n",
    ">   alpine/ollama\n",
    "\n",
    "Step 3: Pull the Model\n",
    "\n",
    "> docker exec -it ollama pull llama3.2\n",
    "\n",
    "Step 4: Run the Model\n",
    "\n",
    "> docker exec -it ollama run llama3.2"
   ]
  },
  {
   "cell_type": "code",
   "execution_count": null,
   "id": "461ee576",
   "metadata": {},
   "outputs": [],
   "source": [
    "ollama_openai_client = OpenAI(api_key=ollama_api_key, base_url=\"http://localhost:11434/v1\")\n",
    "\n",
    "response = ollama_openai_client.chat.completions.create(model=ollama_model_name, messages=messages)\n",
    "\n",
    "ollama_model_answer = response.choices[0].message.content\n",
    "display(Markdown(ollama_model_answer))\n",
    "competitors.append(ollama_model_name)\n",
    "answers.append(ollama_model_answer)"
   ]
  },
  {
   "cell_type": "code",
   "execution_count": null,
   "id": "017bf055",
   "metadata": {},
   "outputs": [],
   "source": [
    "from tabulate import tabulate\n",
    "table_data = list(zip(competitors, answers))\n",
    "\n",
    "table = tabulate(table_data, headers=[\"Competitor\", \"Answer\"], tablefmt=\"grid\")\n",
    "\n",
    "print(table)\n"
   ]
  },
  {
   "cell_type": "code",
   "execution_count": null,
   "id": "8df280bb",
   "metadata": {},
   "outputs": [],
   "source": [
    "together = \"\"\n",
    "for index, answer in enumerate(answers):\n",
    "    together += f\"{competitors[index]}: {answer}\\n\\n\"\n",
    "\n",
    "display(Markdown(together))"
   ]
  },
  {
   "cell_type": "code",
   "execution_count": 22,
   "id": "ce070d6a",
   "metadata": {},
   "outputs": [],
   "source": [
    "judge = f\"\"\"You are judging a competition between {len(competitors)} competitors.\n",
    "Each model has been given this question:\n",
    "\n",
    "{question}\n",
    "\n",
    "Your job is to evaluate each response for clarity and strength of argument, and rank them in order of best to worst.\n",
    "Respond with JSON, and only JSON, with the following format:\n",
    "{{\"results\": [\"best competitor number\", \"second best competitor number\", \"third best competitor number\", ...]}}\n",
    "\n",
    "Here are the responses from each competitor:\n",
    "\n",
    "{together}\n",
    "\n",
    "Now respond with the JSON with the ranked order of the competitors, nothing else. Do not include markdown formatting or code blocks.\"\"\""
   ]
  },
  {
   "cell_type": "code",
   "execution_count": null,
   "id": "5524d7c5",
   "metadata": {},
   "outputs": [],
   "source": [
    "print(judge)\n"
   ]
  },
  {
   "cell_type": "code",
   "execution_count": 26,
   "id": "84b8be98",
   "metadata": {},
   "outputs": [],
   "source": [
    "judge_messages = [{\"role\": \"user\", \"content\": judge}]"
   ]
  },
  {
   "cell_type": "code",
   "execution_count": null,
   "id": "d38723ed",
   "metadata": {},
   "outputs": [],
   "source": [
    "response = openai_client.chat.completions.create(model=openai_model_name, messages=judge_messages)\n",
    "\n",
    "openai_judge_result = response.choices[0].message.content\n",
    "\n",
    "print(openai_judge_result)"
   ]
  },
  {
   "cell_type": "code",
   "execution_count": null,
   "id": "a85505e7",
   "metadata": {},
   "outputs": [],
   "source": [
    "response = gemini_openai_client.chat.completions.create(model=gemini_model_name, messages=judge_messages)\n",
    "\n",
    "gemini_judge_result = response.choices[0].message.content\n",
    "\n",
    "print(gemini_judge_result)"
   ]
  },
  {
   "cell_type": "code",
   "execution_count": null,
   "id": "2c0ae0f0",
   "metadata": {},
   "outputs": [],
   "source": [
    "response = ollama_openai_client.chat.completions.create(model=ollama_model_name, messages=judge_messages)\n",
    "\n",
    "ollama_judge_result = response.choices[0].message.content\n",
    "\n",
    "print(ollama_judge_result)"
   ]
  },
  {
   "cell_type": "code",
   "execution_count": null,
   "id": "b6cf6ba7",
   "metadata": {},
   "outputs": [],
   "source": [
    "# openai_judge_result = {\"results\": [\"gemini-2.0-flash\", \"gpt-4o-mini\", \"llama3.2\"]} \n",
    "results_dict = json.loads(openai_judge_result)\n",
    "\n",
    "print(results_dict)\n",
    "\n",
    "ranks_list = results_dict[\"results\"]\n",
    "\n",
    "print(ranks_list)\n",
    "\n",
    "for rank, competitor in enumerate(ranks_list):\n",
    "    print(f\"Rank {rank + 1}: {competitor}\")\n",
    "\n",
    "\n",
    "\n"
   ]
  },
  {
   "cell_type": "markdown",
   "id": "25925708",
   "metadata": {},
   "source": [
    "# Exercise \n",
    "\n",
    "Which pattern(s) did this use? \n",
    "1. Prompt Chaining\n",
    "2. Parallelization (Code does the parallelization/orchestration like Co-ordinator and Aggregator)\n",
    "3. Evaluation-Optimizer (Validator)\n",
    "\n",
    "Try updating this to add another Agentic design pattern. "
   ]
  },
  {
   "cell_type": "markdown",
   "id": "2b8fadbd",
   "metadata": {},
   "source": [
    "# Commercial implications\n",
    "\n",
    "These kinds of patterns - to send a task to multiple models, and evaluate results, are common where you need to improve the quality of your LLM response. \n",
    "\n",
    "This approach can be universally applied to business projects where accuracy is critical. "
   ]
  }
 ],
 "metadata": {
  "kernelspec": {
   "display_name": ".venv",
   "language": "python",
   "name": "python3"
  },
  "language_info": {
   "codemirror_mode": {
    "name": "ipython",
    "version": 3
   },
   "file_extension": ".py",
   "mimetype": "text/x-python",
   "name": "python",
   "nbconvert_exporter": "python",
   "pygments_lexer": "ipython3",
   "version": "3.12.5"
  }
 },
 "nbformat": 4,
 "nbformat_minor": 5
}
