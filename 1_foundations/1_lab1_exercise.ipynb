{
 "cells": [
  {
   "cell_type": "markdown",
   "id": "dee974b9",
   "metadata": {},
   "source": [
    "This is a Lab1 Exercise from Ed's course.\n",
    "\n",
    " \t\n",
    "Exercise\n",
    "\n",
    "Now try this commercial application:\n",
    "\n",
    "First ask the LLM to pick a business area that might be worth exploring for an Agentic AI opportunity.\n",
    "\n",
    "Then ask the LLM to present a pain-point in that industry - something challenging that might be ripe for an Agentic solution.\n",
    "\n",
    "Finally have 3 third LLM call propose the Agentic AI solution.\n"
   ]
  },
  {
   "cell_type": "code",
   "execution_count": null,
   "id": "f6cc9510",
   "metadata": {},
   "outputs": [],
   "source": [
    "from dotenv import load_dotenv\n",
    "\n",
    "load_dotenv(override=True)"
   ]
  },
  {
   "cell_type": "code",
   "execution_count": null,
   "id": "d43643e4",
   "metadata": {},
   "outputs": [],
   "source": [
    "import os\n",
    "\n",
    "openai_api_key = os.getenv(\"OPENAI_API_KEY\")\n",
    "\n",
    "if openai_api_key:\n",
    "    print(f\"OPENAI_API_KEY is set {openai_api_key[:8]}\")\n",
    "else:\n",
    "    print(\"OPENAI_API_KEY is not set\")"
   ]
  },
  {
   "cell_type": "code",
   "execution_count": null,
   "id": "59ecb9ac",
   "metadata": {},
   "outputs": [],
   "source": [
    "from openai import OpenAI\n",
    "\n",
    "openai_client = OpenAI()\n",
    "\n",
    "model = \"gpt-4o-mini\"\n",
    "messages = [{\"role\": \"user\", \"content\": \"Can you help me pick a business area that might be worth exploring for an Agentic AI opportunity?\"}]\n",
    "\n",
    "response = openai_client.chat.completions.create(model=model, messages=messages)\n",
    "\n",
    "explore_business_area = response.choices[0].message.content\n",
    "\n",
    "print(explore_business_area)\n"
   ]
  },
  {
   "cell_type": "code",
   "execution_count": null,
   "id": "e10cebe1",
   "metadata": {},
   "outputs": [],
   "source": [
    "from IPython.display import Markdown, display\n",
    "\n",
    "display(Markdown(explore_business_area))"
   ]
  },
  {
   "cell_type": "code",
   "execution_count": null,
   "id": "ac271649",
   "metadata": {},
   "outputs": [],
   "source": [
    "messages = [{\"role\": \"user\", \"content\": f\"Below are the business areas you reommended for an Agentic AI opportunity: {explore_business_area}. From this can you please help me provide a pain-point in Agriculture area's Pest Management industry? Please provide only relelvant pain-point. No Solution or any other text. Just the pain-point.\"}]\n",
    "\n",
    "response = openai_client.chat.completions.create(model=model, messages=messages)\n",
    "\n",
    "pain_point = response.choices[0].message.content\n",
    "\n",
    "display(Markdown(pain_point))"
   ]
  },
  {
   "cell_type": "code",
   "execution_count": null,
   "id": "8ae7d0ba",
   "metadata": {},
   "outputs": [],
   "source": [
    "messages = [{\"role\": \"user\", \"content\": f\"Below is the pain-point in Agriculture area's Pest Management industry: {pain_point}. Can you please help me provide a solution for this pain-point where Agentic AI can be used?\"}]\n",
    "\n",
    "response = openai_client.chat.completions.create(model=model, messages=messages)\n",
    "\n",
    "agentic_ai_solution = response.choices[0].message.content\n",
    "\n",
    "display(Markdown(agentic_ai_solution))"
   ]
  },
  {
   "cell_type": "code",
   "execution_count": null,
   "id": "41d40a58",
   "metadata": {},
   "outputs": [],
   "source": [
    "messages = [{\"role\": \"user\", \"content\": f\"Agentic AI solution you suggested for Agriculture area's Pest Management industry: {agentic_ai_solution} is indeed a good solution but it will incur lot of cost to implement. Can you please help me provide a solution for this pain-point where Agentic AI can be used with literally 10 dollars a months subscription like by creating an app which can take photos or videos of the crop, Agentic AI and then it suggests the best pesticide to be used and how it can be used?\"}]\n",
    "\n",
    "response = openai_client.chat.completions.create(model=model, messages=messages)\n",
    "\n",
    "agentic_ai_solution_2 = response.choices[0].message.content\n",
    "\n",
    "display(Markdown(agentic_ai_solution_2))"
   ]
  }
 ],
 "metadata": {
  "kernelspec": {
   "display_name": ".venv",
   "language": "python",
   "name": "python3"
  },
  "language_info": {
   "codemirror_mode": {
    "name": "ipython",
    "version": 3
   },
   "file_extension": ".py",
   "mimetype": "text/x-python",
   "name": "python",
   "nbconvert_exporter": "python",
   "pygments_lexer": "ipython3",
   "version": "3.12.5"
  }
 },
 "nbformat": 4,
 "nbformat_minor": 5
}
